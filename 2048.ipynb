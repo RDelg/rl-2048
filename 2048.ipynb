{
  "nbformat": 4,
  "nbformat_minor": 0,
  "metadata": {
    "colab": {
      "name": "2048_dev.ipynb",
      "provenance": [],
      "collapsed_sections": [],
      "authorship_tag": "ABX9TyOSx8bZrtL9f3wATE4rVqye",
      "include_colab_link": true
    },
    "kernelspec": {
      "name": "python3",
      "display_name": "Python 3"
    },
    "widgets": {
      "application/vnd.jupyter.widget-state+json": {
        "e9ca86c13d0b4cbdafdc8b708f6b69d7": {
          "model_module": "@jupyter-widgets/controls",
          "model_name": "HBoxModel",
          "state": {
            "_view_name": "HBoxView",
            "_dom_classes": [],
            "_model_name": "HBoxModel",
            "_view_module": "@jupyter-widgets/controls",
            "_model_module_version": "1.5.0",
            "_view_count": null,
            "_view_module_version": "1.5.0",
            "box_style": "",
            "layout": "IPY_MODEL_fb13e654308b40daab0ac70ebe53558b",
            "_model_module": "@jupyter-widgets/controls",
            "children": [
              "IPY_MODEL_06fe41d140074450921a2d7be9ed015b",
              "IPY_MODEL_153787232d904b30bd579aae273077b2"
            ]
          }
        },
        "fb13e654308b40daab0ac70ebe53558b": {
          "model_module": "@jupyter-widgets/base",
          "model_name": "LayoutModel",
          "state": {
            "_view_name": "LayoutView",
            "grid_template_rows": null,
            "right": null,
            "justify_content": null,
            "_view_module": "@jupyter-widgets/base",
            "overflow": null,
            "_model_module_version": "1.2.0",
            "_view_count": null,
            "flex_flow": null,
            "width": null,
            "min_width": null,
            "border": null,
            "align_items": null,
            "bottom": null,
            "_model_module": "@jupyter-widgets/base",
            "top": null,
            "grid_column": null,
            "overflow_y": null,
            "overflow_x": null,
            "grid_auto_flow": null,
            "grid_area": null,
            "grid_template_columns": null,
            "flex": null,
            "_model_name": "LayoutModel",
            "justify_items": null,
            "grid_row": null,
            "max_height": null,
            "align_content": null,
            "visibility": null,
            "align_self": null,
            "height": null,
            "min_height": null,
            "padding": null,
            "grid_auto_rows": null,
            "grid_gap": null,
            "max_width": null,
            "order": null,
            "_view_module_version": "1.2.0",
            "grid_template_areas": null,
            "object_position": null,
            "object_fit": null,
            "grid_auto_columns": null,
            "margin": null,
            "display": null,
            "left": null
          }
        },
        "06fe41d140074450921a2d7be9ed015b": {
          "model_module": "@jupyter-widgets/controls",
          "model_name": "IntProgressModel",
          "state": {
            "_view_name": "ProgressView",
            "style": "IPY_MODEL_421766ff2eae483886c0046e0967a308",
            "_dom_classes": [],
            "description": "100%",
            "_model_name": "IntProgressModel",
            "bar_style": "success",
            "max": 1000,
            "_view_module": "@jupyter-widgets/controls",
            "_model_module_version": "1.5.0",
            "value": 1000,
            "_view_count": null,
            "_view_module_version": "1.5.0",
            "orientation": "horizontal",
            "min": 0,
            "description_tooltip": null,
            "_model_module": "@jupyter-widgets/controls",
            "layout": "IPY_MODEL_ced6dcfbf5b4421993321f0e5ef94080"
          }
        },
        "153787232d904b30bd579aae273077b2": {
          "model_module": "@jupyter-widgets/controls",
          "model_name": "HTMLModel",
          "state": {
            "_view_name": "HTMLView",
            "style": "IPY_MODEL_09c635711286476b91a9933e079be96b",
            "_dom_classes": [],
            "description": "",
            "_model_name": "HTMLModel",
            "placeholder": "​",
            "_view_module": "@jupyter-widgets/controls",
            "_model_module_version": "1.5.0",
            "value": " 1000/1000 [00:13&lt;00:00, 74.88it/s]",
            "_view_count": null,
            "_view_module_version": "1.5.0",
            "description_tooltip": null,
            "_model_module": "@jupyter-widgets/controls",
            "layout": "IPY_MODEL_3642a463ff5a4bbe9d58cdc6906f27d0"
          }
        },
        "421766ff2eae483886c0046e0967a308": {
          "model_module": "@jupyter-widgets/controls",
          "model_name": "ProgressStyleModel",
          "state": {
            "_view_name": "StyleView",
            "_model_name": "ProgressStyleModel",
            "description_width": "initial",
            "_view_module": "@jupyter-widgets/base",
            "_model_module_version": "1.5.0",
            "_view_count": null,
            "_view_module_version": "1.2.0",
            "bar_color": null,
            "_model_module": "@jupyter-widgets/controls"
          }
        },
        "ced6dcfbf5b4421993321f0e5ef94080": {
          "model_module": "@jupyter-widgets/base",
          "model_name": "LayoutModel",
          "state": {
            "_view_name": "LayoutView",
            "grid_template_rows": null,
            "right": null,
            "justify_content": null,
            "_view_module": "@jupyter-widgets/base",
            "overflow": null,
            "_model_module_version": "1.2.0",
            "_view_count": null,
            "flex_flow": null,
            "width": null,
            "min_width": null,
            "border": null,
            "align_items": null,
            "bottom": null,
            "_model_module": "@jupyter-widgets/base",
            "top": null,
            "grid_column": null,
            "overflow_y": null,
            "overflow_x": null,
            "grid_auto_flow": null,
            "grid_area": null,
            "grid_template_columns": null,
            "flex": null,
            "_model_name": "LayoutModel",
            "justify_items": null,
            "grid_row": null,
            "max_height": null,
            "align_content": null,
            "visibility": null,
            "align_self": null,
            "height": null,
            "min_height": null,
            "padding": null,
            "grid_auto_rows": null,
            "grid_gap": null,
            "max_width": null,
            "order": null,
            "_view_module_version": "1.2.0",
            "grid_template_areas": null,
            "object_position": null,
            "object_fit": null,
            "grid_auto_columns": null,
            "margin": null,
            "display": null,
            "left": null
          }
        },
        "09c635711286476b91a9933e079be96b": {
          "model_module": "@jupyter-widgets/controls",
          "model_name": "DescriptionStyleModel",
          "state": {
            "_view_name": "StyleView",
            "_model_name": "DescriptionStyleModel",
            "description_width": "",
            "_view_module": "@jupyter-widgets/base",
            "_model_module_version": "1.5.0",
            "_view_count": null,
            "_view_module_version": "1.2.0",
            "_model_module": "@jupyter-widgets/controls"
          }
        },
        "3642a463ff5a4bbe9d58cdc6906f27d0": {
          "model_module": "@jupyter-widgets/base",
          "model_name": "LayoutModel",
          "state": {
            "_view_name": "LayoutView",
            "grid_template_rows": null,
            "right": null,
            "justify_content": null,
            "_view_module": "@jupyter-widgets/base",
            "overflow": null,
            "_model_module_version": "1.2.0",
            "_view_count": null,
            "flex_flow": null,
            "width": null,
            "min_width": null,
            "border": null,
            "align_items": null,
            "bottom": null,
            "_model_module": "@jupyter-widgets/base",
            "top": null,
            "grid_column": null,
            "overflow_y": null,
            "overflow_x": null,
            "grid_auto_flow": null,
            "grid_area": null,
            "grid_template_columns": null,
            "flex": null,
            "_model_name": "LayoutModel",
            "justify_items": null,
            "grid_row": null,
            "max_height": null,
            "align_content": null,
            "visibility": null,
            "align_self": null,
            "height": null,
            "min_height": null,
            "padding": null,
            "grid_auto_rows": null,
            "grid_gap": null,
            "max_width": null,
            "order": null,
            "_view_module_version": "1.2.0",
            "grid_template_areas": null,
            "object_position": null,
            "object_fit": null,
            "grid_auto_columns": null,
            "margin": null,
            "display": null,
            "left": null
          }
        },
        "8a7269774d9b4e0fb2c453ce886122b7": {
          "model_module": "@jupyter-widgets/controls",
          "model_name": "HBoxModel",
          "state": {
            "_view_name": "HBoxView",
            "_dom_classes": [],
            "_model_name": "HBoxModel",
            "_view_module": "@jupyter-widgets/controls",
            "_model_module_version": "1.5.0",
            "_view_count": null,
            "_view_module_version": "1.5.0",
            "box_style": "",
            "layout": "IPY_MODEL_96f236aa49304c55ab49c7093ddbcaef",
            "_model_module": "@jupyter-widgets/controls",
            "children": [
              "IPY_MODEL_dfcd09e6e1834ac9ae0b226a463b9f4b",
              "IPY_MODEL_22aa5da651b04970b4b4d4e3340ce26c"
            ]
          }
        },
        "96f236aa49304c55ab49c7093ddbcaef": {
          "model_module": "@jupyter-widgets/base",
          "model_name": "LayoutModel",
          "state": {
            "_view_name": "LayoutView",
            "grid_template_rows": null,
            "right": null,
            "justify_content": null,
            "_view_module": "@jupyter-widgets/base",
            "overflow": null,
            "_model_module_version": "1.2.0",
            "_view_count": null,
            "flex_flow": null,
            "width": null,
            "min_width": null,
            "border": null,
            "align_items": null,
            "bottom": null,
            "_model_module": "@jupyter-widgets/base",
            "top": null,
            "grid_column": null,
            "overflow_y": null,
            "overflow_x": null,
            "grid_auto_flow": null,
            "grid_area": null,
            "grid_template_columns": null,
            "flex": null,
            "_model_name": "LayoutModel",
            "justify_items": null,
            "grid_row": null,
            "max_height": null,
            "align_content": null,
            "visibility": null,
            "align_self": null,
            "height": null,
            "min_height": null,
            "padding": null,
            "grid_auto_rows": null,
            "grid_gap": null,
            "max_width": null,
            "order": null,
            "_view_module_version": "1.2.0",
            "grid_template_areas": null,
            "object_position": null,
            "object_fit": null,
            "grid_auto_columns": null,
            "margin": null,
            "display": null,
            "left": null
          }
        },
        "dfcd09e6e1834ac9ae0b226a463b9f4b": {
          "model_module": "@jupyter-widgets/controls",
          "model_name": "IntProgressModel",
          "state": {
            "_view_name": "ProgressView",
            "style": "IPY_MODEL_1d960da3c2e84f0caefd0c33ae089a78",
            "_dom_classes": [],
            "description": "100%",
            "_model_name": "IntProgressModel",
            "bar_style": "success",
            "max": 15,
            "_view_module": "@jupyter-widgets/controls",
            "_model_module_version": "1.5.0",
            "value": 15,
            "_view_count": null,
            "_view_module_version": "1.5.0",
            "orientation": "horizontal",
            "min": 0,
            "description_tooltip": null,
            "_model_module": "@jupyter-widgets/controls",
            "layout": "IPY_MODEL_5aa751d541294bb882e599e54a524826"
          }
        },
        "22aa5da651b04970b4b4d4e3340ce26c": {
          "model_module": "@jupyter-widgets/controls",
          "model_name": "HTMLModel",
          "state": {
            "_view_name": "HTMLView",
            "style": "IPY_MODEL_2bca415775724818bd050f4fe2ece7b0",
            "_dom_classes": [],
            "description": "",
            "_model_name": "HTMLModel",
            "placeholder": "​",
            "_view_module": "@jupyter-widgets/controls",
            "_model_module_version": "1.5.0",
            "value": " 15/15 [12:06&lt;00:00, 48.46s/it]",
            "_view_count": null,
            "_view_module_version": "1.5.0",
            "description_tooltip": null,
            "_model_module": "@jupyter-widgets/controls",
            "layout": "IPY_MODEL_c9927a39852d4b8f8d59a4b514f58462"
          }
        },
        "1d960da3c2e84f0caefd0c33ae089a78": {
          "model_module": "@jupyter-widgets/controls",
          "model_name": "ProgressStyleModel",
          "state": {
            "_view_name": "StyleView",
            "_model_name": "ProgressStyleModel",
            "description_width": "initial",
            "_view_module": "@jupyter-widgets/base",
            "_model_module_version": "1.5.0",
            "_view_count": null,
            "_view_module_version": "1.2.0",
            "bar_color": null,
            "_model_module": "@jupyter-widgets/controls"
          }
        },
        "5aa751d541294bb882e599e54a524826": {
          "model_module": "@jupyter-widgets/base",
          "model_name": "LayoutModel",
          "state": {
            "_view_name": "LayoutView",
            "grid_template_rows": null,
            "right": null,
            "justify_content": null,
            "_view_module": "@jupyter-widgets/base",
            "overflow": null,
            "_model_module_version": "1.2.0",
            "_view_count": null,
            "flex_flow": null,
            "width": null,
            "min_width": null,
            "border": null,
            "align_items": null,
            "bottom": null,
            "_model_module": "@jupyter-widgets/base",
            "top": null,
            "grid_column": null,
            "overflow_y": null,
            "overflow_x": null,
            "grid_auto_flow": null,
            "grid_area": null,
            "grid_template_columns": null,
            "flex": null,
            "_model_name": "LayoutModel",
            "justify_items": null,
            "grid_row": null,
            "max_height": null,
            "align_content": null,
            "visibility": null,
            "align_self": null,
            "height": null,
            "min_height": null,
            "padding": null,
            "grid_auto_rows": null,
            "grid_gap": null,
            "max_width": null,
            "order": null,
            "_view_module_version": "1.2.0",
            "grid_template_areas": null,
            "object_position": null,
            "object_fit": null,
            "grid_auto_columns": null,
            "margin": null,
            "display": null,
            "left": null
          }
        },
        "2bca415775724818bd050f4fe2ece7b0": {
          "model_module": "@jupyter-widgets/controls",
          "model_name": "DescriptionStyleModel",
          "state": {
            "_view_name": "StyleView",
            "_model_name": "DescriptionStyleModel",
            "description_width": "",
            "_view_module": "@jupyter-widgets/base",
            "_model_module_version": "1.5.0",
            "_view_count": null,
            "_view_module_version": "1.2.0",
            "_model_module": "@jupyter-widgets/controls"
          }
        },
        "c9927a39852d4b8f8d59a4b514f58462": {
          "model_module": "@jupyter-widgets/base",
          "model_name": "LayoutModel",
          "state": {
            "_view_name": "LayoutView",
            "grid_template_rows": null,
            "right": null,
            "justify_content": null,
            "_view_module": "@jupyter-widgets/base",
            "overflow": null,
            "_model_module_version": "1.2.0",
            "_view_count": null,
            "flex_flow": null,
            "width": null,
            "min_width": null,
            "border": null,
            "align_items": null,
            "bottom": null,
            "_model_module": "@jupyter-widgets/base",
            "top": null,
            "grid_column": null,
            "overflow_y": null,
            "overflow_x": null,
            "grid_auto_flow": null,
            "grid_area": null,
            "grid_template_columns": null,
            "flex": null,
            "_model_name": "LayoutModel",
            "justify_items": null,
            "grid_row": null,
            "max_height": null,
            "align_content": null,
            "visibility": null,
            "align_self": null,
            "height": null,
            "min_height": null,
            "padding": null,
            "grid_auto_rows": null,
            "grid_gap": null,
            "max_width": null,
            "order": null,
            "_view_module_version": "1.2.0",
            "grid_template_areas": null,
            "object_position": null,
            "object_fit": null,
            "grid_auto_columns": null,
            "margin": null,
            "display": null,
            "left": null
          }
        }
      }
    },
    "accelerator": "GPU"
  },
  "cells": [
    {
      "cell_type": "markdown",
      "metadata": {
        "id": "view-in-github",
        "colab_type": "text"
      },
      "source": [
        "<a href=\"https://colab.research.google.com/github/RDelg/rl-2048/blob/master/2048.ipynb\" target=\"_parent\"><img src=\"https://colab.research.google.com/assets/colab-badge.svg\" alt=\"Open In Colab\"/></a>"
      ]
    },
    {
      "cell_type": "code",
      "metadata": {
        "id": "Ia8mAqfZNvAD",
        "colab_type": "code",
        "colab": {}
      },
      "source": [
        "import random\n",
        "from collections import deque\n",
        "\n",
        "import numpy as np\n",
        "import cv2\n",
        "from PIL import Image\n",
        "import tensorflow as tf\n",
        "from tensorflow.keras.layers import Dense\n",
        "from tensorflow.keras.optimizers import Adam\n",
        "from tensorflow.keras.models import Sequential\n",
        "from tqdm.notebook import tqdm"
      ],
      "execution_count": 0,
      "outputs": []
    },
    {
      "cell_type": "code",
      "metadata": {
        "id": "0Q6rW6pY-8ha",
        "colab_type": "code",
        "colab": {}
      },
      "source": [
        "GAMMA = 0.95\n",
        "LEARNING_RATE = 0.001\n",
        "\n",
        "MEMORY_SIZE = 1000000\n",
        "BATCH_SIZE = 20\n",
        "\n",
        "EXPLORATION_MAX = 1.0\n",
        "EXPLORATION_MIN = 0.01\n",
        "EXPLORATION_DECAY = 0.995"
      ],
      "execution_count": 0,
      "outputs": []
    },
    {
      "cell_type": "code",
      "metadata": {
        "id": "OVwgVVsw7llb",
        "colab_type": "code",
        "colab": {}
      },
      "source": [
        "class Game2048(object):\n",
        "    def __init__(self, n, dims):\n",
        "        assert n > 3, \"n must be greater than 3\"\n",
        "        assert dims > 1, \"dims must be greater than 1\"\n",
        "        self.n = n\n",
        "        self.dims = dims\n",
        "        self.n_news = ((n**self.dims)//2**4)*2\n",
        "        self.shape = [n for i in range(self.dims)]\n",
        "        self.actions = [(dim, 0) for dim in range(self.dims)] + [(dim, 1) for dim in range(self.dims)]\n",
        "        self.reset()\n",
        "    \n",
        "    def reset(self):\n",
        "        self.board = np.zeros(shape=self.shape)\n",
        "        self.next_board = np.zeros(shape=self.shape)\n",
        "        self.score = 0\n",
        "        self.add_numbers()\n",
        "        return self.board\n",
        "    \n",
        "    def add_numbers(self):\n",
        "        idx_zero = np.argwhere((self.board == 0))\n",
        "        if idx_zero.shape[0] > self.n_news:\n",
        "            insert_idx = idx_zero[np.argsort(np.random.uniform(size=idx_zero.shape[0]))[:self.n_news], :]\n",
        "        elif idx_zero.shape[0] > 0 and idx_zero.shape[0] <= self.n_news:\n",
        "            insert_idx = idx_zero\n",
        "        else:\n",
        "            return 1\n",
        "        np.put(self.board, np.ravel_multi_index(insert_idx.T, self.shape), 2, mode='raise')\n",
        "        return 0\n",
        "    \n",
        "    def step(self, action_n):\n",
        "        assert action_n < self.dims * 2, 'invalid action number'\n",
        "        score = self.score\n",
        "        action = self.actions[action_n]\n",
        "        self.next_board = np.copy(self.board)\n",
        "        if action[1]:\n",
        "            it_list = zip(range(self.n-1, 0, -1), range(self.n-2, -1, -1))\n",
        "        else:\n",
        "            it_list = zip(range(self.n-1), range(1,self.n))\n",
        "        for i, next_i in it_list:\n",
        "            index_base = np.ones(shape=[1 for x in range(self.dims)], dtype=np.int8)\n",
        "            xi = np.take_along_axis(self.next_board, index_base*i, axis=action[0])\n",
        "            xiplus = np.take_along_axis(self.next_board, index_base*next_i, axis=action[0])\n",
        "            with np.nditer([xi, xiplus], flags=[], op_flags=[['readwrite'], ['readwrite']]) as it:\n",
        "                for j, next_j in it:\n",
        "                    if j[...] != 0 and next_j[...] == 0:\n",
        "                        next_j[...] = j[...]\n",
        "                        j[...] = 0\n",
        "                    elif j[...] == next_j[...]:\n",
        "                        next_j *= 2\n",
        "                        j[...] = 0\n",
        "                        score += next_j[...]\n",
        "            np.put_along_axis(self.next_board, index_base*i, xi, axis=action[0])\n",
        "            np.put_along_axis(self.next_board, index_base*next_i, xiplus, axis=action[0])\n",
        "        self.board = self.next_board\n",
        "        diff_score = score - self.score\n",
        "        self.score = score\n",
        "        is_final = self.add_numbers()\n",
        "        if is_final:\n",
        "            return self.board, self.score, is_final\n",
        "        else:\n",
        "            return self.board, diff_score, is_final\n",
        "    \n",
        "    def show(self, video=None):       \n",
        "        n = self.n\n",
        "        block_size = 50\n",
        "        \n",
        "        img = (self.board * (np.iinfo(np.uint8).max/np.max(self.board))).astype(np.uint8)\n",
        "        img = Image.fromarray(img, \"L\")\n",
        "        img_reshaped = img.resize((n * block_size, n * block_size), resample=Image.BOX)\n",
        "        img_reshaped = np.float32(img_reshaped)\n",
        "        text_color = (200, 20, 220)\n",
        "        for i in range(n):\n",
        "            for j in range(n):\n",
        "                block_value = str(int(self.board[i, j]))\n",
        "                cv2.putText(\n",
        "                    img_reshaped,\n",
        "                    block_value,\n",
        "                    (j*block_size+int(block_size / 2)-10*len(block_value), i*block_size+int(block_size/2)+10),\n",
        "                    fontFace=cv2.FONT_HERSHEY_DUPLEX,\n",
        "                    fontScale=1,\n",
        "                    color=text_color\n",
        "                )\n",
        "        if video is not None:\n",
        "            video.write(np.uint8(img_reshaped))\n",
        "        else:\n",
        "            from google.colab.patches import cv2_imshow\n",
        "            cv2_imshow(img_reshaped)"
      ],
      "execution_count": 0,
      "outputs": []
    },
    {
      "cell_type": "code",
      "metadata": {
        "id": "2BPQH12q-0eB",
        "colab_type": "code",
        "colab": {}
      },
      "source": [
        "class DQNSolver(object):\n",
        "\n",
        "    def __init__(self, observation_space, action_space):\n",
        "        self.exploration_rate = EXPLORATION_MAX\n",
        "\n",
        "        self.action_space = action_space\n",
        "        self.memory = deque(maxlen=MEMORY_SIZE)\n",
        "\n",
        "        self.model = Sequential()\n",
        "        self.model.add(Dense(24, input_shape=(observation_space,), activation=\"relu\"))\n",
        "        self.model.add(Dense(24, activation=\"relu\"))\n",
        "        self.model.add(Dense(self.action_space, activation=\"linear\"))\n",
        "        self.model.compile(loss=\"mse\", optimizer=Adam(lr=LEARNING_RATE))\n",
        "\n",
        "    def remember(self, state, action, reward, next_state, done):\n",
        "        self.memory.append((state, action, reward, next_state, done))\n",
        "\n",
        "    def act(self, state):\n",
        "        if np.random.rand() < self.exploration_rate:\n",
        "            return random.randrange(self.action_space)\n",
        "        q_values = self.model.predict(state)\n",
        "        return np.argmax(q_values[0])\n",
        "\n",
        "    def experience_replay(self):\n",
        "        if len(self.memory) < BATCH_SIZE:\n",
        "            return\n",
        "        batch = random.sample(self.memory, BATCH_SIZE)\n",
        "        for state, action, reward, state_next, terminal in batch:\n",
        "            q_update = reward\n",
        "            if not terminal:\n",
        "                q_update = (reward + GAMMA * np.amax(self.model.predict(state_next)[0]))\n",
        "            q_values = self.model.predict(state)\n",
        "            q_values[0][action] = q_update\n",
        "            self.model.fit(state, q_values, verbose=0)\n",
        "        self.exploration_rate *= EXPLORATION_DECAY\n",
        "        self.exploration_rate = max(EXPLORATION_MIN, self.exploration_rate)\n",
        "    \n",
        "    def save(self, path):\n",
        "        self.model.save(path)\n",
        "    \n",
        "    def load(self, path):\n",
        "        self.model = tf.keras.models.load_model(path)"
      ],
      "execution_count": 0,
      "outputs": []
    },
    {
      "cell_type": "code",
      "metadata": {
        "id": "Q0QxvsSIf0kJ",
        "colab_type": "code",
        "colab": {}
      },
      "source": [
        "def play_random(n, dims, show=False):\n",
        "    game = Game2048(n=n, dims=dims)\n",
        "    if dims == 2 and show:\n",
        "        video = cv2.VideoWriter(f'random_n_{n}_dims_{dims}.mp4', cv2.VideoWriter_fourcc(*\"DIVX\"), 5., (200, 200), 0)\n",
        "    is_final = False\n",
        "    while not is_final:\n",
        "        action_n = int(np.random.uniform()*len(game.actions))\n",
        "        new_board, score, is_final =  game.step(action_n=action_n)\n",
        "        if dims == 2 and show:\n",
        "            game.show(video=video)\n",
        "    if dims == 2 and show:\n",
        "        video.release()\n",
        "        game.show()\n",
        "    return game.board, score"
      ],
      "execution_count": 0,
      "outputs": []
    },
    {
      "cell_type": "code",
      "metadata": {
        "id": "db6B_EaNtyHS",
        "colab_type": "code",
        "outputId": "1b1b6b96-0c3f-4a91-a723-8223a2a091f5",
        "colab": {
          "base_uri": "https://localhost:8080/",
          "height": 285
        }
      },
      "source": [
        "board, score = play_random(n=4, dims=2, show=True);\n",
        "print(board, score)"
      ],
      "execution_count": 6,
      "outputs": [
        {
          "output_type": "display_data",
          "data": {
            "image/png": "[encoded data removed]",
            "text/plain": [
              "<PIL.Image.Image image mode=L size=200x200 at 0x7FB8503317F0>"
            ]
          },
          "metadata": {
            "tags": []
          }
        },
        {
          "output_type": "stream",
          "text": [
            "[[ 2. 16.  8. 16.]\n",
            " [ 8.  4.  2.  4.]\n",
            " [ 2.  8.  4. 32.]\n",
            " [ 4. 16.  2.  4.]] 340.0\n"
          ],
          "name": "stdout"
        }
      ]
    },
    {
      "cell_type": "code",
      "metadata": {
        "id": "GRVotoUwt4sk",
        "colab_type": "code",
        "outputId": "1decbf56-1123-47af-fecc-a21ef69c1617",
        "colab": {
          "base_uri": "https://localhost:8080/",
          "height": 340
        }
      },
      "source": [
        "board, score = play_random(n=4, dims=3);\n",
        "print(board, score)"
      ],
      "execution_count": 7,
      "outputs": [
        {
          "output_type": "stream",
          "text": [
            "[[[ 2. 32.  8. 16.]\n",
            "  [32. 16.  2.  4.]\n",
            "  [ 2.  4.  2.  4.]\n",
            "  [ 2.  4.  2. 16.]]\n",
            "\n",
            " [[16.  2.  4.  2.]\n",
            "  [ 2. 32.  8. 16.]\n",
            "  [ 8.  2.  8. 16.]\n",
            "  [16.  2.  4.  8.]]\n",
            "\n",
            " [[64.  4. 64.  8.]\n",
            "  [ 4.  2. 16. 32.]\n",
            "  [ 2. 16.  4.  2.]\n",
            "  [ 2.  4.  8.  2.]]\n",
            "\n",
            " [[ 8.  2.  8. 16.]\n",
            "  [32.  8.  4.  2.]\n",
            "  [ 8.  4.  8.  4.]\n",
            "  [ 4.  8.  2.  4.]]] 2028.0\n"
          ],
          "name": "stdout"
        }
      ]
    },
    {
      "cell_type": "code",
      "metadata": {
        "id": "g6u0U1rVvCkj",
        "colab_type": "code",
        "outputId": "b73a0e4e-0c79-4261-8481-257af574c6fe",
        "colab": {
          "base_uri": "https://localhost:8080/",
          "height": 34
        }
      },
      "source": [
        "board, score = play_random(n=4, dims=5);\n",
        "print(score)"
      ],
      "execution_count": 8,
      "outputs": [
        {
          "output_type": "stream",
          "text": [
            "113904.0\n"
          ],
          "name": "stdout"
        }
      ]
    },
    {
      "cell_type": "code",
      "metadata": {
        "id": "TsQMwdbAvQUE",
        "colab_type": "code",
        "outputId": "c135e374-b9fe-499d-cc35-07d7df257e1f",
        "colab": {
          "base_uri": "https://localhost:8080/",
          "height": 314,
          "referenced_widgets": [
            "e9ca86c13d0b4cbdafdc8b708f6b69d7",
            "fb13e654308b40daab0ac70ebe53558b",
            "06fe41d140074450921a2d7be9ed015b",
            "153787232d904b30bd579aae273077b2",
            "421766ff2eae483886c0046e0967a308",
            "ced6dcfbf5b4421993321f0e5ef94080",
            "09c635711286476b91a9933e079be96b",
            "3642a463ff5a4bbe9d58cdc6906f27d0"
          ]
        }
      },
      "source": [
        "iterations = 1000\n",
        "scores = np.zeros(shape=(iterations))\n",
        "for i in tqdm(range(iterations)):\n",
        "    _, scores[i] = play_random(4, 2)\n",
        "\n",
        "import matplotlib.pyplot as plt\n",
        "plt.hist(scores);"
      ],
      "execution_count": 9,
      "outputs": [
        {
          "output_type": "display_data",
          "data": {
            "application/vnd.jupyter.widget-view+json": {
              "model_id": "e9ca86c13d0b4cbdafdc8b708f6b69d7",
              "version_minor": 0,
              "version_major": 2
            },
            "text/plain": [
              "HBox(children=(IntProgress(value=0, max=1000), HTML(value='')))"
            ]
          },
          "metadata": {
            "tags": []
          }
        },
        {
          "output_type": "stream",
          "text": [
            "\n"
          ],
          "name": "stdout"
        },
        {
          "output_type": "display_data",
          "data": {
            "image/png": "[encoded data removed]",
            "text/plain": [
              "<Figure size 432x288 with 1 Axes>"
            ]
          },
          "metadata": {
            "tags": []
          }
        }
      ]
    },
    {
      "cell_type": "code",
      "metadata": {
        "id": "3CY1Fvcg_CVT",
        "colab_type": "code",
        "outputId": "dbce50a7-1efd-483b-c65e-ea26a2ac6525",
        "colab": {
          "base_uri": "https://localhost:8080/",
          "height": 321,
          "referenced_widgets": [
            "8a7269774d9b4e0fb2c453ce886122b7",
            "96f236aa49304c55ab49c7093ddbcaef",
            "dfcd09e6e1834ac9ae0b226a463b9f4b",
            "22aa5da651b04970b4b4d4e3340ce26c",
            "1d960da3c2e84f0caefd0c33ae089a78",
            "5aa751d541294bb882e599e54a524826",
            "2bca415775724818bd050f4fe2ece7b0",
            "c9927a39852d4b8f8d59a4b514f58462"
          ]
        }
      },
      "source": [
        "env = Game2048(n=4, dims=2)\n",
        "observation_space = env.board.ravel().shape[0]\n",
        "action_space = len(env.actions)\n",
        "dqn_solver = DQNSolver(observation_space, action_space)\n",
        "run = 0\n",
        "best_step = 0\n",
        "for _ in tqdm(range(15)):\n",
        "    run += 1\n",
        "    state = env.reset()\n",
        "    state = np.reshape(state, [1, observation_space])\n",
        "    step = 0\n",
        "    while True:\n",
        "        step += 1\n",
        "        action = dqn_solver.act(state)\n",
        "        state_next, reward, terminal = env.step(action)\n",
        "        reward = reward if not terminal else -reward\n",
        "        state_next = np.reshape(state_next, [1, observation_space])\n",
        "        dqn_solver.remember(state, action, reward, state_next, terminal)\n",
        "        dqn_solver.experience_replay()\n",
        "        state = state_next\n",
        "        if terminal:\n",
        "            if step > best_step:\n",
        "                best_step = step\n",
        "                dqn_solver.save('best_model.h5')\n",
        "            print(\"Run: \" + str(run) + \", exploration: \" + str(dqn_solver.exploration_rate) + \", score: \" + str(step))\n",
        "            break"
      ],
      "execution_count": 10,
      "outputs": [
        {
          "output_type": "display_data",
          "data": {
            "application/vnd.jupyter.widget-view+json": {
              "model_id": "8a7269774d9b4e0fb2c453ce886122b7",
              "version_minor": 0,
              "version_major": 2
            },
            "text/plain": [
              "HBox(children=(IntProgress(value=0, max=15), HTML(value='')))"
            ]
          },
          "metadata": {
            "tags": []
          }
        },
        {
          "output_type": "stream",
          "text": [
            "Run: 1, exploration: 0.995, score: 20\n",
            "Run: 2, exploration: 0.8866535105013078, score: 23\n",
            "Run: 3, exploration: 0.7822236754458713, score: 25\n",
            "Run: 4, exploration: 0.6866430931872001, score: 26\n",
            "Run: 5, exploration: 0.5997278763867329, score: 27\n",
            "Run: 6, exploration: 0.5134164023722473, score: 31\n",
            "Run: 7, exploration: 0.43952667968844233, score: 31\n",
            "Run: 8, exploration: 0.34901730169741024, score: 46\n",
            "Run: 9, exploration: 0.3173112652388396, score: 19\n",
            "Run: 10, exploration: 0.27714603575484437, score: 27\n",
            "Run: 11, exploration: 0.24328132378095624, score: 26\n",
            "Run: 12, exploration: 0.21570623976979014, score: 24\n",
            "Run: 13, exploration: 0.1846622876013121, score: 31\n",
            "Run: 14, exploration: 0.15967890763313974, score: 29\n",
            "Run: 15, exploration: 0.1313250884614265, score: 39\n",
            "\n"
          ],
          "name": "stdout"
        }
      ]
    },
    {
      "cell_type": "code",
      "metadata": {
        "id": "kXa3LuwMj66o",
        "colab_type": "code",
        "colab": {}
      },
      "source": [
        "def play_ai(n, dims, model_path, show=False):\n",
        "    env = Game2048(n=n, dims=dims)\n",
        "    observation_space = env.board.ravel().shape[0]\n",
        "    action_space = len(env.actions)\n",
        "    model = DQNSolver(observation_space, action_space)\n",
        "    model.load(model_path)\n",
        "    state = env.reset()\n",
        "    state = np.reshape(state, [1, observation_space])\n",
        "    if dims == 2 and show:\n",
        "        video = cv2.VideoWriter(f'ai_n_{n}_dims_{dims}.mp4', cv2.VideoWriter_fourcc(*\"DIVX\"), 5., (200, 200), 0)\n",
        "    is_final = False\n",
        "    while not is_final:\n",
        "        action_n =  dqn_solver.act(state)\n",
        "        state, score, is_final =  env.step(action_n=action_n)\n",
        "        state = np.reshape(state, [1, observation_space])\n",
        "        if dims == 2 and show:\n",
        "            env.show(video=video)\n",
        "    if dims == 2 and show:\n",
        "        video.release()\n",
        "        env.show()\n",
        "    return env.board, score"
      ],
      "execution_count": 0,
      "outputs": []
    },
    {
      "cell_type": "code",
      "metadata": {
        "id": "S3j7cq3ZkmuE",
        "colab_type": "code",
        "outputId": "82cf2bc5-641a-4885-8bec-2302bde42521",
        "colab": {
          "base_uri": "https://localhost:8080/",
          "height": 302
        }
      },
      "source": [
        "play_ai(4,2,'best_model.h5',show=True)"
      ],
      "execution_count": 12,
      "outputs": [
        {
          "output_type": "stream",
          "text": [
            "WARNING:tensorflow:Error in loading the saved optimizer state. As a result, your model is starting with a freshly initialized optimizer.\n"
          ],
          "name": "stdout"
        },
        {
          "output_type": "display_data",
          "data": {
            "image/png": "[encoded data removed]",
            "text/plain": [
              "<PIL.Image.Image image mode=L size=200x200 at 0x7FB7C9337C50>"
            ]
          },
          "metadata": {
            "tags": []
          }
        },
        {
          "output_type": "execute_result",
          "data": {
            "text/plain": [
              "(array([[16.,  2., 32.,  2.],\n",
              "        [ 2., 16.,  4.,  2.],\n",
              "        [16.,  8.,  4.,  2.],\n",
              "        [16.,  8.,  4.,  2.]]), 364.0)"
            ]
          },
          "metadata": {
            "tags": []
          },
          "execution_count": 12
        }
      ]
    },
    {
      "cell_type": "code",
      "metadata": {
        "id": "da7NYDvM3yRQ",
        "colab_type": "code",
        "colab": {}
      },
      "source": [
        ""
      ],
      "execution_count": 0,
      "outputs": []
    }
  ]
}