{
  "nbformat": 4,
  "nbformat_minor": 0,
  "metadata": {
    "colab": {
      "name": "2048.ipynb",
      "provenance": [],
      "collapsed_sections": [],
      "authorship_tag": "ABX9TyMW6fgjlteF/Bw9WO5big0G"
    },
    "kernelspec": {
      "name": "python3",
      "display_name": "Python 3"
    }
  },
  "cells": [
    {
      "cell_type": "code",
      "metadata": {
        "id": "Ia8mAqfZNvAD",
        "colab_type": "code",
        "colab": {}
      },
      "source": [
        "import numpy as np"
      ],
      "execution_count": 0,
      "outputs": []
    },
    {
      "cell_type": "code",
      "metadata": {
        "id": "OVwgVVsw7llb",
        "colab_type": "code",
        "colab": {}
      },
      "source": [
        "class Game2048(object):\n",
        "    def __init__(self, n, dims):\n",
        "        assert n > 3, \"n must be greater than 3\"\n",
        "        assert dims > 1, \"dims must be greater than 1\"\n",
        "        self.n = n\n",
        "        self.dims = dims\n",
        "        self.n_news = ((n**self.dims)//2**4)*2\n",
        "        self.shape = [n for i in range(self.dims)]\n",
        "        self.actions = [(dim, 0) for dim in range(self.dims)] + [(dim, 1) for dim in range(self.dims)]\n",
        "        self.reset()\n",
        "    \n",
        "    def reset(self):\n",
        "        self.board = np.zeros(shape=self.shape)\n",
        "        self.next_board = np.zeros(shape=self.shape)\n",
        "        self.zero_mask = np.ones(shape=self.shape)\n",
        "        self.score = 0\n",
        "        self.last_move = False\n",
        "        self.actions_taken = []\n",
        "        self.add_numbers()\n",
        "    \n",
        "    def add_numbers(self):\n",
        "        idx_gt_zero = np.argwhere(self.board)\n",
        "        np.put(self.zero_mask, np.ravel_multi_index(idx_gt_zero.T, self.shape), 0, mode='raise')\n",
        "        idx_zero = np.argwhere(self.zero_mask)\n",
        "        np.put(self.zero_mask, np.ravel_multi_index(idx_gt_zero.T, self.shape), 1, mode='raise')\n",
        "        if idx_zero.shape[0] > self.n_news:\n",
        "            insert_idx = idx_zero[np.argsort(np.random.uniform(size=idx_zero.shape[0]))[:self.n_news], :]\n",
        "        elif idx_zero.shape[0] > 0 and idx_zero.shape[0] <= self.n_news:\n",
        "            insert_idx = idx_zero\n",
        "        else:\n",
        "            self.last_move = True\n",
        "            return\n",
        "        np.put(self.board, np.ravel_multi_index(insert_idx.T, self.shape), 2, mode='raise')\n",
        "    \n",
        "    def next_move(self, action_n):\n",
        "        assert action_n < self.dims * 2, 'invalid action number'\n",
        "        score = self.score\n",
        "        if self.last_move:\n",
        "            if len(self.actions_taken) == len(self.actions):\n",
        "                return None, score\n",
        "            else:\n",
        "                if action_n not in self.actions_taken:\n",
        "                    self.actions_taken.append(action_n)\n",
        "        action = self.actions[action_n]\n",
        "        self.next_board = np.copy(self.board)\n",
        "        it_list = zip(range(self.n-1, 0, -1), range(self.n-2, -1, -1)) if action[1] else zip(range(self.n-1), range(1,self.n))\n",
        "        for i, next_i in it_list:\n",
        "            index_base = np.ones(shape=[1 for x in range(self.dims)], dtype=np.int8)\n",
        "            xi = np.take_along_axis(self.next_board, index_base*i, axis=action[0])\n",
        "            xiplus = np.take_along_axis(self.next_board, index_base*next_i, axis=action[0])\n",
        "            with np.nditer([xi, xiplus], flags=[], op_flags=[['readwrite'], ['readwrite']]) as it:\n",
        "                for j, next_j in it:\n",
        "                    if j[...] != 0 and next_j[...] == 0:\n",
        "                        next_j[...] = j[...]\n",
        "                        j[...] = 0\n",
        "                    elif j[...] == next_j[...]:\n",
        "                        next_j *= 2\n",
        "                        j[...] = 0\n",
        "                        score += next_j[...]\n",
        "                        if self.last_move:\n",
        "                            self.last_move = False\n",
        "                            self.actions_taken = []\n",
        "            np.put_along_axis(self.next_board, index_base*i, xi, axis=action[0])\n",
        "            np.put_along_axis(self.next_board, index_base*next_i, xiplus, axis=action[0])\n",
        "        return self.next_board, score\n",
        "    \n",
        "    def update_move(self, board, score):\n",
        "        self.board = board\n",
        "        self.score = score\n",
        "        self.add_numbers()"
      ],
      "execution_count": 0,
      "outputs": []
    },
    {
      "cell_type": "code",
      "metadata": {
        "id": "Q0QxvsSIf0kJ",
        "colab_type": "code",
        "colab": {}
      },
      "source": [
        "def play_random(n, dims):\n",
        "    game = Game2048(n=n, dims=dims)\n",
        "    while 1:\n",
        "        action_n = int(np.random.uniform()*len(game.actions))\n",
        "        new_board, score =  game.next_move(action_n=action_n)\n",
        "        if new_board is None:\n",
        "            break\n",
        "        game.update_move(new_board, score)\n",
        "    return game.board, score"
      ],
      "execution_count": 0,
      "outputs": []
    },
    {
      "cell_type": "code",
      "metadata": {
        "id": "db6B_EaNtyHS",
        "colab_type": "code",
        "colab": {
          "base_uri": "https://localhost:8080/",
          "height": 85
        },
        "outputId": "9db5f1df-6e7f-4a27-b64c-f6d67d0053e8"
      },
      "source": [
        "board, score = play_random(n=4, dims=2);\n",
        "print(board, score)"
      ],
      "execution_count": 4,
      "outputs": [
        {
          "output_type": "stream",
          "text": [
            "[[ 8.  4.  8.  2.]\n",
            " [16.  2.  4. 16.]\n",
            " [ 8.  4.  2.  4.]\n",
            " [ 4.  2. 32.  2.]] 292.0\n"
          ],
          "name": "stdout"
        }
      ]
    },
    {
      "cell_type": "code",
      "metadata": {
        "id": "GRVotoUwt4sk",
        "colab_type": "code",
        "colab": {
          "base_uri": "https://localhost:8080/",
          "height": 340
        },
        "outputId": "7c373bc1-7dee-4883-841d-57b9de318ffd"
      },
      "source": [
        "board, score = play_random(n=4, dims=3);\n",
        "print(board, score)"
      ],
      "execution_count": 5,
      "outputs": [
        {
          "output_type": "stream",
          "text": [
            "[[[ 2.  4.  2.  4.]\n",
            "  [16.  2.  8.  2.]\n",
            "  [ 2.  8.  2.  8.]\n",
            "  [ 4. 32. 16.  2.]]\n",
            "\n",
            " [[ 4.  2.  4.  2.]\n",
            "  [32.  4. 16.  4.]\n",
            "  [ 4.  2.  4.  2.]\n",
            "  [32.  8.  2.  4.]]\n",
            "\n",
            " [[ 2. 16.  8.  4.]\n",
            "  [16.  2.  4. 32.]\n",
            "  [ 2. 64. 16.  8.]\n",
            "  [ 4.  2.  4.  2.]]\n",
            "\n",
            " [[ 4.  8.  4.  2.]\n",
            "  [32.  4.  8.  4.]\n",
            "  [ 4.  8.  4.  2.]\n",
            "  [16.  4.  8.  4.]]] 1544.0\n"
          ],
          "name": "stdout"
        }
      ]
    },
    {
      "cell_type": "code",
      "metadata": {
        "id": "lt2MBVg2vBCe",
        "colab_type": "code",
        "colab": {
          "base_uri": "https://localhost:8080/",
          "height": 34
        },
        "outputId": "3caa6623-80da-4790-ff08-3b04e73034b4"
      },
      "source": [
        "board, score = play_random(n=4, dims=2);\n",
        "print(score)"
      ],
      "execution_count": 6,
      "outputs": [
        {
          "output_type": "stream",
          "text": [
            "408.0\n"
          ],
          "name": "stdout"
        }
      ]
    },
    {
      "cell_type": "code",
      "metadata": {
        "id": "g6u0U1rVvCkj",
        "colab_type": "code",
        "colab": {
          "base_uri": "https://localhost:8080/",
          "height": 34
        },
        "outputId": "bcf3dc63-0a20-469b-f63f-4685b06a24af"
      },
      "source": [
        "board, score = play_random(n=4, dims=5);\n",
        "print(score)"
      ],
      "execution_count": 7,
      "outputs": [
        {
          "output_type": "stream",
          "text": [
            "124100.0\n"
          ],
          "name": "stdout"
        }
      ]
    },
    {
      "cell_type": "code",
      "metadata": {
        "id": "TsQMwdbAvQUE",
        "colab_type": "code",
        "colab": {
          "base_uri": "https://localhost:8080/",
          "height": 265
        },
        "outputId": "8687f5fc-5ecf-4baa-c1df-5b68f36851ec"
      },
      "source": [
        "iterations = 1000\n",
        "scores = np.zeros(shape=(iterations))\n",
        "for i in range(iterations):\n",
        "    _, scores[i] = play_random(4, 2)\n",
        "\n",
        "import matplotlib.pyplot as plt\n",
        "plt.hist(scores);"
      ],
      "execution_count": 8,
      "outputs": [
        {
          "output_type": "display_data",
          "data": {
            "image/png": "[encoded data removed]",
            "text/plain": [
              "<Figure size 432x288 with 1 Axes>"
            ]
          },
          "metadata": {
            "tags": []
          }
        }
      ]
    }
  ]
}