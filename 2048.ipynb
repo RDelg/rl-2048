{
  "nbformat": 4,
  "nbformat_minor": 0,
  "metadata": {
    "colab": {
      "name": "2048.ipynb",
      "provenance": [],
      "collapsed_sections": [],
      "authorship_tag": "ABX9TyM0T6YZZFWA03aZbk89/god"
    },
    "kernelspec": {
      "name": "python3",
      "display_name": "Python 3"
    },
    "widgets": {
      "application/vnd.jupyter.widget-state+json": {
        "1af2d941335b4dd5afcdc46d4b8face1": {
          "model_module": "@jupyter-widgets/controls",
          "model_name": "HBoxModel",
          "state": {
            "_view_name": "HBoxView",
            "_dom_classes": [],
            "_model_name": "HBoxModel",
            "_view_module": "@jupyter-widgets/controls",
            "_model_module_version": "1.5.0",
            "_view_count": null,
            "_view_module_version": "1.5.0",
            "box_style": "",
            "layout": "IPY_MODEL_55b7d04f6e284cd685a0c141a253007f",
            "_model_module": "@jupyter-widgets/controls",
            "children": [
              "IPY_MODEL_bbf25230d3e94365a6b19054f57d6237",
              "IPY_MODEL_b014d5d1141f4e64a1eabe01aa973682"
            ]
          }
        },
        "55b7d04f6e284cd685a0c141a253007f": {
          "model_module": "@jupyter-widgets/base",
          "model_name": "LayoutModel",
          "state": {
            "_view_name": "LayoutView",
            "grid_template_rows": null,
            "right": null,
            "justify_content": null,
            "_view_module": "@jupyter-widgets/base",
            "overflow": null,
            "_model_module_version": "1.2.0",
            "_view_count": null,
            "flex_flow": null,
            "width": null,
            "min_width": null,
            "border": null,
            "align_items": null,
            "bottom": null,
            "_model_module": "@jupyter-widgets/base",
            "top": null,
            "grid_column": null,
            "overflow_y": null,
            "overflow_x": null,
            "grid_auto_flow": null,
            "grid_area": null,
            "grid_template_columns": null,
            "flex": null,
            "_model_name": "LayoutModel",
            "justify_items": null,
            "grid_row": null,
            "max_height": null,
            "align_content": null,
            "visibility": null,
            "align_self": null,
            "height": null,
            "min_height": null,
            "padding": null,
            "grid_auto_rows": null,
            "grid_gap": null,
            "max_width": null,
            "order": null,
            "_view_module_version": "1.2.0",
            "grid_template_areas": null,
            "object_position": null,
            "object_fit": null,
            "grid_auto_columns": null,
            "margin": null,
            "display": null,
            "left": null
          }
        },
        "bbf25230d3e94365a6b19054f57d6237": {
          "model_module": "@jupyter-widgets/controls",
          "model_name": "IntProgressModel",
          "state": {
            "_view_name": "ProgressView",
            "style": "IPY_MODEL_55bfc5cb0c4f457c82c70be41409f4a3",
            "_dom_classes": [],
            "description": "100%",
            "_model_name": "IntProgressModel",
            "bar_style": "success",
            "max": 40,
            "_view_module": "@jupyter-widgets/controls",
            "_model_module_version": "1.5.0",
            "value": 40,
            "_view_count": null,
            "_view_module_version": "1.5.0",
            "orientation": "horizontal",
            "min": 0,
            "description_tooltip": null,
            "_model_module": "@jupyter-widgets/controls",
            "layout": "IPY_MODEL_d5398e023e8344edbdafb1be19b5028e"
          }
        },
        "b014d5d1141f4e64a1eabe01aa973682": {
          "model_module": "@jupyter-widgets/controls",
          "model_name": "HTMLModel",
          "state": {
            "_view_name": "HTMLView",
            "style": "IPY_MODEL_c7ff587db1594fbe873ce00f698bce1a",
            "_dom_classes": [],
            "description": "",
            "_model_name": "HTMLModel",
            "placeholder": "​",
            "_view_module": "@jupyter-widgets/controls",
            "_model_module_version": "1.5.0",
            "value": " 40/40 [13:38&lt;00:00, 20.47s/it]",
            "_view_count": null,
            "_view_module_version": "1.5.0",
            "description_tooltip": null,
            "_model_module": "@jupyter-widgets/controls",
            "layout": "IPY_MODEL_7cfc9384010e47e3a49b6737046e1845"
          }
        },
        "55bfc5cb0c4f457c82c70be41409f4a3": {
          "model_module": "@jupyter-widgets/controls",
          "model_name": "ProgressStyleModel",
          "state": {
            "_view_name": "StyleView",
            "_model_name": "ProgressStyleModel",
            "description_width": "initial",
            "_view_module": "@jupyter-widgets/base",
            "_model_module_version": "1.5.0",
            "_view_count": null,
            "_view_module_version": "1.2.0",
            "bar_color": null,
            "_model_module": "@jupyter-widgets/controls"
          }
        },
        "d5398e023e8344edbdafb1be19b5028e": {
          "model_module": "@jupyter-widgets/base",
          "model_name": "LayoutModel",
          "state": {
            "_view_name": "LayoutView",
            "grid_template_rows": null,
            "right": null,
            "justify_content": null,
            "_view_module": "@jupyter-widgets/base",
            "overflow": null,
            "_model_module_version": "1.2.0",
            "_view_count": null,
            "flex_flow": null,
            "width": null,
            "min_width": null,
            "border": null,
            "align_items": null,
            "bottom": null,
            "_model_module": "@jupyter-widgets/base",
            "top": null,
            "grid_column": null,
            "overflow_y": null,
            "overflow_x": null,
            "grid_auto_flow": null,
            "grid_area": null,
            "grid_template_columns": null,
            "flex": null,
            "_model_name": "LayoutModel",
            "justify_items": null,
            "grid_row": null,
            "max_height": null,
            "align_content": null,
            "visibility": null,
            "align_self": null,
            "height": null,
            "min_height": null,
            "padding": null,
            "grid_auto_rows": null,
            "grid_gap": null,
            "max_width": null,
            "order": null,
            "_view_module_version": "1.2.0",
            "grid_template_areas": null,
            "object_position": null,
            "object_fit": null,
            "grid_auto_columns": null,
            "margin": null,
            "display": null,
            "left": null
          }
        },
        "c7ff587db1594fbe873ce00f698bce1a": {
          "model_module": "@jupyter-widgets/controls",
          "model_name": "DescriptionStyleModel",
          "state": {
            "_view_name": "StyleView",
            "_model_name": "DescriptionStyleModel",
            "description_width": "",
            "_view_module": "@jupyter-widgets/base",
            "_model_module_version": "1.5.0",
            "_view_count": null,
            "_view_module_version": "1.2.0",
            "_model_module": "@jupyter-widgets/controls"
          }
        },
        "7cfc9384010e47e3a49b6737046e1845": {
          "model_module": "@jupyter-widgets/base",
          "model_name": "LayoutModel",
          "state": {
            "_view_name": "LayoutView",
            "grid_template_rows": null,
            "right": null,
            "justify_content": null,
            "_view_module": "@jupyter-widgets/base",
            "overflow": null,
            "_model_module_version": "1.2.0",
            "_view_count": null,
            "flex_flow": null,
            "width": null,
            "min_width": null,
            "border": null,
            "align_items": null,
            "bottom": null,
            "_model_module": "@jupyter-widgets/base",
            "top": null,
            "grid_column": null,
            "overflow_y": null,
            "overflow_x": null,
            "grid_auto_flow": null,
            "grid_area": null,
            "grid_template_columns": null,
            "flex": null,
            "_model_name": "LayoutModel",
            "justify_items": null,
            "grid_row": null,
            "max_height": null,
            "align_content": null,
            "visibility": null,
            "align_self": null,
            "height": null,
            "min_height": null,
            "padding": null,
            "grid_auto_rows": null,
            "grid_gap": null,
            "max_width": null,
            "order": null,
            "_view_module_version": "1.2.0",
            "grid_template_areas": null,
            "object_position": null,
            "object_fit": null,
            "grid_auto_columns": null,
            "margin": null,
            "display": null,
            "left": null
          }
        }
      }
    }
  },
  "cells": [
    {
      "cell_type": "code",
      "metadata": {
        "id": "Ia8mAqfZNvAD",
        "colab_type": "code",
        "colab": {}
      },
      "source": [
        "import random\n",
        "from collections import deque\n",
        "\n",
        "import numpy as np\n",
        "from tensorflow.keras.layers import Dense\n",
        "from tensorflow.keras.optimizers import Adam\n",
        "from tensorflow.keras.models import Sequential\n",
        "from tqdm.notebook import tqdm"
      ],
      "execution_count": 0,
      "outputs": []
    },
    {
      "cell_type": "code",
      "metadata": {
        "id": "0Q6rW6pY-8ha",
        "colab_type": "code",
        "colab": {}
      },
      "source": [
        "GAMMA = 0.95\n",
        "LEARNING_RATE = 0.001\n",
        "\n",
        "MEMORY_SIZE = 1000000\n",
        "BATCH_SIZE = 20\n",
        "\n",
        "EXPLORATION_MAX = 1.0\n",
        "EXPLORATION_MIN = 0.01\n",
        "EXPLORATION_DECAY = 0.995"
      ],
      "execution_count": 0,
      "outputs": []
    },
    {
      "cell_type": "code",
      "metadata": {
        "id": "OVwgVVsw7llb",
        "colab_type": "code",
        "colab": {}
      },
      "source": [
        "class Game2048(object):\n",
        "    def __init__(self, n, dims):\n",
        "        assert n > 3, \"n must be greater than 3\"\n",
        "        assert dims > 1, \"dims must be greater than 1\"\n",
        "        self.n = n\n",
        "        self.dims = dims\n",
        "        self.n_news = ((n**self.dims)//2**4)*2\n",
        "        self.shape = [n for i in range(self.dims)]\n",
        "        self.actions = [(dim, 0) for dim in range(self.dims)] + [(dim, 1) for dim in range(self.dims)]\n",
        "        self.reset()\n",
        "    \n",
        "    def reset(self):\n",
        "        self.board = np.zeros(shape=self.shape)\n",
        "        self.next_board = np.zeros(shape=self.shape)\n",
        "        self.zero_mask = np.ones(shape=self.shape)\n",
        "        self.score = 0\n",
        "        self.last_move = False\n",
        "        self.actions_taken = []\n",
        "        self.add_numbers()\n",
        "        return self.board\n",
        "    \n",
        "    def add_numbers(self):\n",
        "        idx_gt_zero = np.argwhere(self.board)\n",
        "        np.put(self.zero_mask,np.ravel_multi_index(idx_gt_zero.T, self.shape), 0, mode='raise')\n",
        "        idx_zero = np.argwhere(self.zero_mask)\n",
        "        np.put(self.zero_mask, np.ravel_multi_index(idx_gt_zero.T, self.shape), 1, mode='raise')\n",
        "        if idx_zero.shape[0] > self.n_news:\n",
        "            insert_idx = idx_zero[np.argsort(np.random.uniform(size=idx_zero.shape[0]))[:self.n_news], :]\n",
        "        elif idx_zero.shape[0] > 0 and idx_zero.shape[0] <= self.n_news:\n",
        "            insert_idx = idx_zero\n",
        "        else:\n",
        "            self.last_move = True\n",
        "            return\n",
        "        np.put(self.board, np.ravel_multi_index(insert_idx.T, self.shape), 2, mode='raise')\n",
        "    \n",
        "    def step(self, action_n):\n",
        "        assert action_n < self.dims * 2, 'invalid action number'\n",
        "        score = self.score\n",
        "        if self.last_move:\n",
        "            if len(self.actions_taken) == len(self.actions):\n",
        "                return self.board, self.score, True\n",
        "            else:\n",
        "                if action_n not in self.actions_taken:\n",
        "                    self.actions_taken.append(action_n)\n",
        "        action = self.actions[action_n]\n",
        "        self.next_board = np.copy(self.board)\n",
        "        if action[1]:\n",
        "            it_list = zip(range(self.n-1, 0, -1), range(self.n-2, -1, -1))\n",
        "        else:\n",
        "            it_list = zip(range(self.n-1), range(1,self.n))\n",
        "        for i, next_i in it_list:\n",
        "            index_base = np.ones(shape=[1 for x in range(self.dims)], dtype=np.int8)\n",
        "            xi = np.take_along_axis(self.next_board, index_base*i, axis=action[0])\n",
        "            xiplus = np.take_along_axis(self.next_board, index_base*next_i, axis=action[0])\n",
        "            with np.nditer([xi, xiplus], flags=[], op_flags=[['readwrite'], ['readwrite']]) as it:\n",
        "                for j, next_j in it:\n",
        "                    if j[...] != 0 and next_j[...] == 0:\n",
        "                        next_j[...] = j[...]\n",
        "                        j[...] = 0\n",
        "                    elif j[...] == next_j[...]:\n",
        "                        next_j *= 2\n",
        "                        j[...] = 0\n",
        "                        score += next_j[...]\n",
        "                        if self.last_move:\n",
        "                            self.last_move = False\n",
        "                            self.actions_taken = []\n",
        "            np.put_along_axis(self.next_board, index_base*i, xi, axis=action[0])\n",
        "            np.put_along_axis(self.next_board, index_base*next_i, xiplus, axis=action[0])\n",
        "        self.board = self.next_board\n",
        "        self.score = score\n",
        "        self.add_numbers()\n",
        "        return self.board, self.score, False\n",
        "    "
      ],
      "execution_count": 0,
      "outputs": []
    },
    {
      "cell_type": "code",
      "metadata": {
        "id": "2BPQH12q-0eB",
        "colab_type": "code",
        "colab": {}
      },
      "source": [
        "class DQNSolver:\n",
        "\n",
        "    def __init__(self, observation_space, action_space):\n",
        "        self.exploration_rate = EXPLORATION_MAX\n",
        "\n",
        "        self.action_space = action_space\n",
        "        self.memory = deque(maxlen=MEMORY_SIZE)\n",
        "\n",
        "        self.model = Sequential()\n",
        "        self.model.add(Dense(24, input_shape=(observation_space,), activation=\"relu\"))\n",
        "        self.model.add(Dense(24, activation=\"relu\"))\n",
        "        self.model.add(Dense(self.action_space, activation=\"linear\"))\n",
        "        self.model.compile(loss=\"mse\", optimizer=Adam(lr=LEARNING_RATE))\n",
        "\n",
        "    def remember(self, state, action, reward, next_state, done):\n",
        "        self.memory.append((state, action, reward, next_state, done))\n",
        "\n",
        "    def act(self, state):\n",
        "        if np.random.rand() < self.exploration_rate:\n",
        "            return random.randrange(self.action_space)\n",
        "        q_values = self.model.predict(state)\n",
        "        return np.argmax(q_values[0])\n",
        "\n",
        "    def experience_replay(self):\n",
        "        if len(self.memory) < BATCH_SIZE:\n",
        "            return\n",
        "        batch = random.sample(self.memory, BATCH_SIZE)\n",
        "        for state, action, reward, state_next, terminal in batch:\n",
        "            q_update = reward\n",
        "            if not terminal:\n",
        "                q_update = (reward + GAMMA * np.amax(self.model.predict(state_next)[0]))\n",
        "            q_values = self.model.predict(state)\n",
        "            q_values[0][action] = q_update\n",
        "            self.model.fit(state, q_values, verbose=0)\n",
        "        self.exploration_rate *= EXPLORATION_DECAY\n",
        "        self.exploration_rate = max(EXPLORATION_MIN, self.exploration_rate)"
      ],
      "execution_count": 0,
      "outputs": []
    },
    {
      "cell_type": "code",
      "metadata": {
        "id": "Q0QxvsSIf0kJ",
        "colab_type": "code",
        "colab": {}
      },
      "source": [
        "def play_random(n, dims):\n",
        "    game = Game2048(n=n, dims=dims)\n",
        "    is_final = False\n",
        "    while not is_final:\n",
        "        action_n = int(np.random.uniform()*len(game.actions))\n",
        "        new_board, score, is_final =  game.step(action_n=action_n)\n",
        "    return game.board, score"
      ],
      "execution_count": 0,
      "outputs": []
    },
    {
      "cell_type": "code",
      "metadata": {
        "id": "db6B_EaNtyHS",
        "colab_type": "code",
        "colab": {
          "base_uri": "https://localhost:8080/",
          "height": 85
        },
        "outputId": "dcbae087-10fd-4177-9e91-1368beac42f0"
      },
      "source": [
        "board, score = play_random(n=4, dims=2);\n",
        "print(board, score)"
      ],
      "execution_count": 14,
      "outputs": [
        {
          "output_type": "stream",
          "text": [
            "[[ 8. 16.  4.  8.]\n",
            " [ 2.  4.  2. 16.]\n",
            " [ 4. 64.  4.  2.]\n",
            " [ 8.  4.  2.  4.]] 488.0\n"
          ],
          "name": "stdout"
        }
      ]
    },
    {
      "cell_type": "code",
      "metadata": {
        "id": "GRVotoUwt4sk",
        "colab_type": "code",
        "colab": {
          "base_uri": "https://localhost:8080/",
          "height": 340
        },
        "outputId": "faf6da86-965e-4b8e-9ab9-687dd624183b"
      },
      "source": [
        "board, score = play_random(n=4, dims=3);\n",
        "print(board, score)"
      ],
      "execution_count": 15,
      "outputs": [
        {
          "output_type": "stream",
          "text": [
            "[[[ 2. 16.  2. 16.]\n",
            "  [ 8.  4.  8.  2.]\n",
            "  [32.  2.  4. 16.]\n",
            "  [ 2. 64.  8.  2.]]\n",
            "\n",
            " [[ 4.  2. 64.  4.]\n",
            "  [32. 16.  2. 32.]\n",
            "  [ 2.  4. 32.  2.]\n",
            "  [32.  2. 16. 32.]]\n",
            "\n",
            " [[32.  4. 16.  8.]\n",
            "  [ 2. 32.  4.  2.]\n",
            "  [16.  2.  8.  4.]\n",
            "  [ 2. 32.  2.  8.]]\n",
            "\n",
            " [[ 2.  8.  2.  4.]\n",
            "  [ 8.  2. 16. 32.]\n",
            "  [ 2.  4. 64.  8.]\n",
            "  [ 8. 16. 32.  2.]]] 3000.0\n"
          ],
          "name": "stdout"
        }
      ]
    },
    {
      "cell_type": "code",
      "metadata": {
        "id": "lt2MBVg2vBCe",
        "colab_type": "code",
        "colab": {
          "base_uri": "https://localhost:8080/",
          "height": 34
        },
        "outputId": "f70dcd84-7349-4bd5-ab7c-362d6bcb55b6"
      },
      "source": [
        "board, score = play_random(n=4, dims=2);\n",
        "print(score)"
      ],
      "execution_count": 16,
      "outputs": [
        {
          "output_type": "stream",
          "text": [
            "544.0\n"
          ],
          "name": "stdout"
        }
      ]
    },
    {
      "cell_type": "code",
      "metadata": {
        "id": "g6u0U1rVvCkj",
        "colab_type": "code",
        "colab": {
          "base_uri": "https://localhost:8080/",
          "height": 34
        },
        "outputId": "ed90ba83-ea36-4749-edea-b136c18f46b1"
      },
      "source": [
        "board, score = play_random(n=4, dims=5);\n",
        "print(score)"
      ],
      "execution_count": 17,
      "outputs": [
        {
          "output_type": "stream",
          "text": [
            "114340.0\n"
          ],
          "name": "stdout"
        }
      ]
    },
    {
      "cell_type": "code",
      "metadata": {
        "id": "TsQMwdbAvQUE",
        "colab_type": "code",
        "colab": {
          "base_uri": "https://localhost:8080/",
          "height": 265
        },
        "outputId": "8687f5fc-5ecf-4baa-c1df-5b68f36851ec"
      },
      "source": [
        "iterations = 1000\n",
        "scores = np.zeros(shape=(iterations))\n",
        "for i in range(iterations):\n",
        "    _, scores[i] = play_random(4, 2)\n",
        "\n",
        "import matplotlib.pyplot as plt\n",
        "plt.hist(scores);"
      ],
      "execution_count": 8,
      "outputs": [
        {
          "output_type": "display_data",
          "data": {
            "image/png": "[encoded data removed]",
            "text/plain": [
              "<Figure size 432x288 with 1 Axes>"
            ]
          },
          "metadata": {
            "tags": []
          }
        }
      ]
    },
    {
      "cell_type": "code",
      "metadata": {
        "id": "3CY1Fvcg_CVT",
        "colab_type": "code",
        "colab": {
          "base_uri": "https://localhost:8080/",
          "height": 746,
          "referenced_widgets": [
            "1af2d941335b4dd5afcdc46d4b8face1",
            "55b7d04f6e284cd685a0c141a253007f",
            "bbf25230d3e94365a6b19054f57d6237",
            "b014d5d1141f4e64a1eabe01aa973682",
            "55bfc5cb0c4f457c82c70be41409f4a3",
            "d5398e023e8344edbdafb1be19b5028e",
            "c7ff587db1594fbe873ce00f698bce1a",
            "7cfc9384010e47e3a49b6737046e1845"
          ]
        },
        "outputId": "95bb2ff7-b3ff-4d99-a95c-cf77d13c42a6"
      },
      "source": [
        "env = Game2048(n=4, dims=2)\n",
        "observation_space = env.board.ravel().shape[0]\n",
        "action_space = len(env.actions)\n",
        "dqn_solver = DQNSolver(observation_space, action_space)\n",
        "run = 0\n",
        "for _ in tqdm(range(40)):\n",
        "    run += 1\n",
        "    state = env.reset()\n",
        "    state = np.reshape(state, [1, observation_space])\n",
        "    step = 0\n",
        "    while True:\n",
        "        step += 1\n",
        "        action = dqn_solver.act(state)\n",
        "        state_next, reward, terminal = env.step(action)\n",
        "        reward = reward if not terminal else -reward\n",
        "        state_next = np.reshape(state_next, [1, observation_space])\n",
        "        dqn_solver.remember(state, action, reward, state_next, terminal)\n",
        "        dqn_solver.experience_replay()\n",
        "        state = state_next\n",
        "        if terminal:\n",
        "            print(\"Run: \" + str(run) + \", exploration: \" + str(dqn_solver.exploration_rate) + \", score: \" + str(step))\n",
        "            break"
      ],
      "execution_count": 12,
      "outputs": [
        {
          "output_type": "display_data",
          "data": {
            "application/vnd.jupyter.widget-view+json": {
              "model_id": "1af2d941335b4dd5afcdc46d4b8face1",
              "version_minor": 0,
              "version_major": 2
            },
            "text/plain": [
              "HBox(children=(IntProgress(value=0, max=40), HTML(value='')))"
            ]
          },
          "metadata": {
            "tags": []
          }
        },
        {
          "output_type": "stream",
          "text": [
            "Run: 1, exploration: 0.9322301194154049, score: 33\n",
            "Run: 2, exploration: 0.7666961448653229, score: 39\n",
            "Run: 3, exploration: 0.6274028820538087, score: 40\n",
            "Run: 4, exploration: 0.46444185833082485, score: 60\n",
            "Run: 5, exploration: 0.33195389135223546, score: 67\n",
            "Run: 6, exploration: 0.2532352299289372, score: 54\n",
            "Run: 7, exploration: 0.17475600159032884, score: 74\n",
            "Run: 8, exploration: 0.08662902049662846, score: 140\n",
            "Run: 9, exploration: 0.048190768399801194, score: 117\n",
            "Run: 10, exploration: 0.026673952849996664, score: 118\n",
            "Run: 11, exploration: 0.014183896485845416, score: 126\n",
            "Run: 12, exploration: 0.01, score: 124\n",
            "Run: 13, exploration: 0.01, score: 220\n",
            "Run: 14, exploration: 0.01, score: 60\n",
            "Run: 15, exploration: 0.01, score: 173\n",
            "Run: 16, exploration: 0.01, score: 208\n",
            "Run: 17, exploration: 0.01, score: 78\n",
            "Run: 18, exploration: 0.01, score: 215\n",
            "Run: 19, exploration: 0.01, score: 260\n",
            "Run: 20, exploration: 0.01, score: 90\n",
            "Run: 21, exploration: 0.01, score: 472\n",
            "Run: 22, exploration: 0.01, score: 303\n",
            "Run: 23, exploration: 0.01, score: 237\n",
            "Run: 24, exploration: 0.01, score: 231\n",
            "Run: 25, exploration: 0.01, score: 679\n",
            "Run: 26, exploration: 0.01, score: 253\n",
            "Run: 27, exploration: 0.01, score: 61\n",
            "Run: 28, exploration: 0.01, score: 304\n",
            "Run: 29, exploration: 0.01, score: 83\n",
            "Run: 30, exploration: 0.01, score: 400\n",
            "Run: 31, exploration: 0.01, score: 463\n",
            "Run: 32, exploration: 0.01, score: 174\n",
            "Run: 33, exploration: 0.01, score: 230\n",
            "Run: 34, exploration: 0.01, score: 1057\n",
            "Run: 35, exploration: 0.01, score: 412\n",
            "Run: 36, exploration: 0.01, score: 322\n",
            "Run: 37, exploration: 0.01, score: 176\n",
            "Run: 38, exploration: 0.01, score: 246\n",
            "Run: 39, exploration: 0.01, score: 301\n",
            "Run: 40, exploration: 0.01, score: 270\n",
            "\n"
          ],
          "name": "stdout"
        }
      ]
    },
    {
      "cell_type": "code",
      "metadata": {
        "id": "gXxsQkb5-XMU",
        "colab_type": "code",
        "colab": {}
      },
      "source": [
        ""
      ],
      "execution_count": 0,
      "outputs": []
    }
  ]
}