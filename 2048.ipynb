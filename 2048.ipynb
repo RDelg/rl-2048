{
  "nbformat": 4,
  "nbformat_minor": 0,
  "metadata": {
    "colab": {
      "name": "2048.ipynb",
      "provenance": [],
      "collapsed_sections": [],
      "authorship_tag": "ABX9TyO9kL5tCywEVXreZmTjxNmb"
    },
    "kernelspec": {
      "name": "python3",
      "display_name": "Python 3"
    }
  },
  "cells": [
    {
      "cell_type": "code",
      "metadata": {
        "id": "Ia8mAqfZNvAD",
        "colab_type": "code",
        "colab": {}
      },
      "source": [
        "import numpy as np"
      ],
      "execution_count": 0,
      "outputs": []
    },
    {
      "cell_type": "code",
      "metadata": {
        "id": "OVwgVVsw7llb",
        "colab_type": "code",
        "colab": {}
      },
      "source": [
        "class Game2048(object):\n",
        "    def __init__(self, n):\n",
        "        self.n = n\n",
        "        self.dims = 2\n",
        "        self.n_news = ((n**self.dims)//2**4)*2\n",
        "        self.shape = [n for i in range(self.dims)]\n",
        "        self.actions = [(dim, 0) for dim in range(self.dims)] + [(dim, 1) for dim in range(self.dims)]\n",
        "        self.reset()\n",
        "    \n",
        "    def reset(self):\n",
        "        self.board = np.zeros(shape=self.shape)\n",
        "        self.next_board = np.zeros(shape=self.shape)\n",
        "        self.zero_mask = np.ones(shape=self.shape)\n",
        "        self.score = 0\n",
        "        self.last_move = False\n",
        "        self.actions_taken = []\n",
        "        self.add_numbers()\n",
        "    \n",
        "    def add_numbers(self):\n",
        "        idx_gt_zero = np.argwhere(self.board)\n",
        "        np.put(self.zero_mask, np.ravel_multi_index(idx_gt_zero.T, self.shape), 0, mode='raise')\n",
        "        idx_zero = np.argwhere(self.zero_mask)\n",
        "        np.put(self.zero_mask, np.ravel_multi_index(idx_gt_zero.T, self.shape), 1, mode='raise')\n",
        "        if idx_zero.shape[0] > self.n_news:\n",
        "            insert_idx = idx_zero[np.argsort(np.random.uniform(size=idx_zero.shape[0]))[:self.n_news], :]\n",
        "        elif idx_zero.shape[0] > 0 and idx_zero.shape[0] <= self.n_news:\n",
        "            insert_idx = idx_zero\n",
        "        else:\n",
        "            self.last_move = True\n",
        "            return\n",
        "        np.put(self.board, np.ravel_multi_index(insert_idx.T, self.shape), 2, mode='raise')\n",
        "    \n",
        "    def next_move(self, action_n):\n",
        "        score = self.score\n",
        "        if self.last_move:\n",
        "            if len(self.actions_taken) == len(self.actions):\n",
        "                return None, score\n",
        "            else:\n",
        "                if action_n not in self.actions_taken:\n",
        "                    self.actions_taken.append(action_n)\n",
        "        action = self.actions[action_n]\n",
        "        self.next_board = np.copy(self.board)\n",
        "        if action[1]:\n",
        "            board = np.flip(self.next_board)\n",
        "        else:\n",
        "            board = self.next_board\n",
        "        if action[0]:\n",
        "            board = board.T\n",
        "        for x in board:\n",
        "            for i in range(n-1):\n",
        "                if x[i+1] == 0:\n",
        "                    x[i], x[i+1] = x[i+1], x[i]\n",
        "                elif x[i] == x[i+1]:\n",
        "                    x[i+1] *= 2\n",
        "                    x[i] = 0\n",
        "                    score += x[i+1]\n",
        "                    if self.last_move:\n",
        "                        self.last_move = False\n",
        "                        self.actions_taken = []\n",
        "        return self.next_board, score\n",
        "    \n",
        "    def update_move(self, board, score):\n",
        "        self.board = board\n",
        "        self.score = score\n",
        "        self.add_numbers()"
      ],
      "execution_count": 0,
      "outputs": []
    },
    {
      "cell_type": "code",
      "metadata": {
        "id": "Q0QxvsSIf0kJ",
        "colab_type": "code",
        "colab": {}
      },
      "source": [
        "n = 4\n",
        "game = Game2048(n=n)"
      ],
      "execution_count": 0,
      "outputs": []
    },
    {
      "cell_type": "code",
      "metadata": {
        "id": "OV5otcjHf_wX",
        "colab_type": "code",
        "colab": {
          "base_uri": "https://localhost:8080/",
          "height": 85
        },
        "outputId": "307f1032-c826-4217-936d-1be89578d5c7"
      },
      "source": [
        "game.reset()\n",
        "while 1:\n",
        "    action_n = int(np.random.uniform()*len(game.actions))\n",
        "    new_board, score =  game.next_move(action_n=action_n)\n",
        "    if new_board is None:\n",
        "        break\n",
        "    game.update_move(new_board, score)\n",
        "print(game.board, score)"
      ],
      "execution_count": 4,
      "outputs": [
        {
          "output_type": "stream",
          "text": [
            "[[ 8. 16.  4.  8.]\n",
            " [ 2.  4.  2.  4.]\n",
            " [ 4.  2.  8. 16.]\n",
            " [16.  8.  2.  8.]] 240.0\n"
          ],
          "name": "stdout"
        }
      ]
    }
  ]
}